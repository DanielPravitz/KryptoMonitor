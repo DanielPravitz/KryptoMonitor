{
 "cells": [
  {
   "cell_type": "code",
   "execution_count": 2,
   "metadata": {},
   "outputs": [],
   "source": [
    "import requests                   \n",
    "import json                       \n",
    "import pandas as pd                \n",
    "import datetime as dt              \n",
    "import matplotlib.pyplot as plt    \n"
   ]
  },
  {
   "cell_type": "code",
   "execution_count": 5,
   "metadata": {},
   "outputs": [],
   "source": [
    "def get_binance_bars(symbol, interval, startTime, endTime):\n",
    " \n",
    "    url = \"https://api.binance.com/api/v3/klines\"\n",
    " \n",
    "    startTime = str(int(startTime.timestamp() * 1000))\n",
    "    endTime = str(int(endTime.timestamp() * 1000))\n",
    "    limit = '1000'\n",
    " \n",
    "    req_params = {\"symbol\" : symbol, 'interval' : interval, 'startTime' : startTime, 'endTime' : endTime, 'limit' : limit}\n",
    " \n",
    "    df = pd.DataFrame(json.loads(requests.get(url, params = req_params).text))\n",
    " \n",
    "    if (len(df.index) == 0):\n",
    "        return None\n",
    "     \n",
    "    df = df.iloc[:, 0:6]\n",
    "    df.columns = ['datetime', 'open', 'high', 'low', 'close', 'volume']\n",
    " \n",
    "    df.open      = df.open.astype(\"float\")\n",
    "    df.high      = df.high.astype(\"float\")\n",
    "    df.low       = df.low.astype(\"float\")\n",
    "    df.close     = df.close.astype(\"float\")\n",
    "    df.volume    = df.volume.astype(\"float\")\n",
    "    \n",
    "    df['adj_close'] = df['close']\n",
    "     \n",
    "    df.index = [dt.datetime.fromtimestamp(x / 1000.0) for x in df.datetime]\n",
    " \n",
    "    return df"
   ]
  },
  {
   "cell_type": "code",
   "execution_count": 34,
   "metadata": {},
   "outputs": [],
   "source": [
    "df_list = [get_binance_bars('BTCUSDT', '1d', dt.datetime(2020, 1, 1), dt.datetime(2021, 1, 1))]\n",
    "df = pd.concat(df_list)\n",
    "df.to_csv('btcHistory.csv') "
   ]
  }
 ],
 "metadata": {
  "kernelspec": {
   "display_name": "Python 3",
   "language": "python",
   "name": "python3"
  },
  "language_info": {
   "codemirror_mode": {
    "name": "ipython",
    "version": 3
   },
   "file_extension": ".py",
   "mimetype": "text/x-python",
   "name": "python",
   "nbconvert_exporter": "python",
   "pygments_lexer": "ipython3",
   "version": "3.7.4"
  }
 },
 "nbformat": 4,
 "nbformat_minor": 4
}
